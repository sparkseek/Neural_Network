{
 "cells": [
  {
   "cell_type": "code",
   "execution_count": 1,
   "metadata": {
    "colab": {
     "base_uri": "https://localhost:8080/"
    },
    "id": "_BnB9-ryXKAl",
    "outputId": "b1906daa-798a-41c9-8bbd-80562386e768"
   },
   "outputs": [
    {
     "data": {
      "text/plain": [
       "'2.8.0'"
      ]
     },
     "execution_count": 1,
     "metadata": {},
     "output_type": "execute_result"
    }
   ],
   "source": [
    "#%tensorflow_version 2.x\n",
    "import tensorflow as tf\n",
    "tf.__version__\n",
    "\n",
    " \n",
    "\n",
    "\n"
   ]
  },
  {
   "cell_type": "code",
   "execution_count": 2,
   "metadata": {
    "id": "HQsvOciKl9Jj"
   },
   "outputs": [],
   "source": [
    "import pandas as pd\n",
    "import numpy as np\n",
    "import seaborn as sns\n",
    "from sklearn.model_selection import train_test_split\n",
    "from sklearn import preprocessing\n",
    "from tensorflow.keras.models import Sequential\n",
    "from tensorflow.keras.layers import Activation, Dense\n",
    "from tensorflow.keras.layers import Dense, Dropout, BatchNormalization\n",
    "from sklearn.metrics import accuracy_score, confusion_matrix, precision_score, recall_score, f1_score, precision_recall_curve, auc\n",
    "import matplotlib.pyplot as plt\n",
    "from tensorflow.keras import optimizers\n",
    "\n"
   ]
  },
  {
   "cell_type": "code",
   "execution_count": 3,
   "metadata": {},
   "outputs": [
    {
     "data": {
      "text/html": [
       "<div>\n",
       "<style scoped>\n",
       "    .dataframe tbody tr th:only-of-type {\n",
       "        vertical-align: middle;\n",
       "    }\n",
       "\n",
       "    .dataframe tbody tr th {\n",
       "        vertical-align: top;\n",
       "    }\n",
       "\n",
       "    .dataframe thead th {\n",
       "        text-align: right;\n",
       "    }\n",
       "</style>\n",
       "<table border=\"1\" class=\"dataframe\">\n",
       "  <thead>\n",
       "    <tr style=\"text-align: right;\">\n",
       "      <th></th>\n",
       "      <th>Parameter 1</th>\n",
       "      <th>Parameter 2</th>\n",
       "      <th>Parameter 3</th>\n",
       "      <th>Parameter 4</th>\n",
       "      <th>Parameter 5</th>\n",
       "      <th>Parameter 6</th>\n",
       "      <th>Parameter 7</th>\n",
       "      <th>Parameter 8</th>\n",
       "      <th>Parameter 9</th>\n",
       "      <th>Parameter 10</th>\n",
       "      <th>Parameter 11</th>\n",
       "      <th>Signal_Strength</th>\n",
       "    </tr>\n",
       "  </thead>\n",
       "  <tbody>\n",
       "    <tr>\n",
       "      <th>0</th>\n",
       "      <td>7.4</td>\n",
       "      <td>0.700</td>\n",
       "      <td>0.00</td>\n",
       "      <td>1.9</td>\n",
       "      <td>0.076</td>\n",
       "      <td>11.0</td>\n",
       "      <td>34.0</td>\n",
       "      <td>0.9978</td>\n",
       "      <td>3.51</td>\n",
       "      <td>0.56</td>\n",
       "      <td>9.4</td>\n",
       "      <td>5</td>\n",
       "    </tr>\n",
       "    <tr>\n",
       "      <th>1</th>\n",
       "      <td>7.8</td>\n",
       "      <td>0.880</td>\n",
       "      <td>0.00</td>\n",
       "      <td>2.6</td>\n",
       "      <td>0.098</td>\n",
       "      <td>25.0</td>\n",
       "      <td>67.0</td>\n",
       "      <td>0.9968</td>\n",
       "      <td>3.20</td>\n",
       "      <td>0.68</td>\n",
       "      <td>9.8</td>\n",
       "      <td>5</td>\n",
       "    </tr>\n",
       "    <tr>\n",
       "      <th>2</th>\n",
       "      <td>7.8</td>\n",
       "      <td>0.760</td>\n",
       "      <td>0.04</td>\n",
       "      <td>2.3</td>\n",
       "      <td>0.092</td>\n",
       "      <td>15.0</td>\n",
       "      <td>54.0</td>\n",
       "      <td>0.9970</td>\n",
       "      <td>3.26</td>\n",
       "      <td>0.65</td>\n",
       "      <td>9.8</td>\n",
       "      <td>5</td>\n",
       "    </tr>\n",
       "    <tr>\n",
       "      <th>3</th>\n",
       "      <td>11.2</td>\n",
       "      <td>0.280</td>\n",
       "      <td>0.56</td>\n",
       "      <td>1.9</td>\n",
       "      <td>0.075</td>\n",
       "      <td>17.0</td>\n",
       "      <td>60.0</td>\n",
       "      <td>0.9980</td>\n",
       "      <td>3.16</td>\n",
       "      <td>0.58</td>\n",
       "      <td>9.8</td>\n",
       "      <td>6</td>\n",
       "    </tr>\n",
       "    <tr>\n",
       "      <th>4</th>\n",
       "      <td>7.4</td>\n",
       "      <td>0.700</td>\n",
       "      <td>0.00</td>\n",
       "      <td>1.9</td>\n",
       "      <td>0.076</td>\n",
       "      <td>11.0</td>\n",
       "      <td>34.0</td>\n",
       "      <td>0.9978</td>\n",
       "      <td>3.51</td>\n",
       "      <td>0.56</td>\n",
       "      <td>9.4</td>\n",
       "      <td>5</td>\n",
       "    </tr>\n",
       "    <tr>\n",
       "      <th>5</th>\n",
       "      <td>7.4</td>\n",
       "      <td>0.660</td>\n",
       "      <td>0.00</td>\n",
       "      <td>1.8</td>\n",
       "      <td>0.075</td>\n",
       "      <td>13.0</td>\n",
       "      <td>40.0</td>\n",
       "      <td>0.9978</td>\n",
       "      <td>3.51</td>\n",
       "      <td>0.56</td>\n",
       "      <td>9.4</td>\n",
       "      <td>5</td>\n",
       "    </tr>\n",
       "    <tr>\n",
       "      <th>6</th>\n",
       "      <td>7.9</td>\n",
       "      <td>0.600</td>\n",
       "      <td>0.06</td>\n",
       "      <td>1.6</td>\n",
       "      <td>0.069</td>\n",
       "      <td>15.0</td>\n",
       "      <td>59.0</td>\n",
       "      <td>0.9964</td>\n",
       "      <td>3.30</td>\n",
       "      <td>0.46</td>\n",
       "      <td>9.4</td>\n",
       "      <td>5</td>\n",
       "    </tr>\n",
       "    <tr>\n",
       "      <th>7</th>\n",
       "      <td>7.3</td>\n",
       "      <td>0.650</td>\n",
       "      <td>0.00</td>\n",
       "      <td>1.2</td>\n",
       "      <td>0.065</td>\n",
       "      <td>15.0</td>\n",
       "      <td>21.0</td>\n",
       "      <td>0.9946</td>\n",
       "      <td>3.39</td>\n",
       "      <td>0.47</td>\n",
       "      <td>10.0</td>\n",
       "      <td>7</td>\n",
       "    </tr>\n",
       "    <tr>\n",
       "      <th>8</th>\n",
       "      <td>7.8</td>\n",
       "      <td>0.580</td>\n",
       "      <td>0.02</td>\n",
       "      <td>2.0</td>\n",
       "      <td>0.073</td>\n",
       "      <td>9.0</td>\n",
       "      <td>18.0</td>\n",
       "      <td>0.9968</td>\n",
       "      <td>3.36</td>\n",
       "      <td>0.57</td>\n",
       "      <td>9.5</td>\n",
       "      <td>7</td>\n",
       "    </tr>\n",
       "    <tr>\n",
       "      <th>9</th>\n",
       "      <td>7.5</td>\n",
       "      <td>0.500</td>\n",
       "      <td>0.36</td>\n",
       "      <td>6.1</td>\n",
       "      <td>0.071</td>\n",
       "      <td>17.0</td>\n",
       "      <td>102.0</td>\n",
       "      <td>0.9978</td>\n",
       "      <td>3.35</td>\n",
       "      <td>0.80</td>\n",
       "      <td>10.5</td>\n",
       "      <td>5</td>\n",
       "    </tr>\n",
       "    <tr>\n",
       "      <th>10</th>\n",
       "      <td>6.7</td>\n",
       "      <td>0.580</td>\n",
       "      <td>0.08</td>\n",
       "      <td>1.8</td>\n",
       "      <td>0.097</td>\n",
       "      <td>15.0</td>\n",
       "      <td>65.0</td>\n",
       "      <td>0.9959</td>\n",
       "      <td>3.28</td>\n",
       "      <td>0.54</td>\n",
       "      <td>9.2</td>\n",
       "      <td>5</td>\n",
       "    </tr>\n",
       "    <tr>\n",
       "      <th>11</th>\n",
       "      <td>7.5</td>\n",
       "      <td>0.500</td>\n",
       "      <td>0.36</td>\n",
       "      <td>6.1</td>\n",
       "      <td>0.071</td>\n",
       "      <td>17.0</td>\n",
       "      <td>102.0</td>\n",
       "      <td>0.9978</td>\n",
       "      <td>3.35</td>\n",
       "      <td>0.80</td>\n",
       "      <td>10.5</td>\n",
       "      <td>5</td>\n",
       "    </tr>\n",
       "    <tr>\n",
       "      <th>12</th>\n",
       "      <td>5.6</td>\n",
       "      <td>0.615</td>\n",
       "      <td>0.00</td>\n",
       "      <td>1.6</td>\n",
       "      <td>0.089</td>\n",
       "      <td>16.0</td>\n",
       "      <td>59.0</td>\n",
       "      <td>0.9943</td>\n",
       "      <td>3.58</td>\n",
       "      <td>0.52</td>\n",
       "      <td>9.9</td>\n",
       "      <td>5</td>\n",
       "    </tr>\n",
       "    <tr>\n",
       "      <th>13</th>\n",
       "      <td>7.8</td>\n",
       "      <td>0.610</td>\n",
       "      <td>0.29</td>\n",
       "      <td>1.6</td>\n",
       "      <td>0.114</td>\n",
       "      <td>9.0</td>\n",
       "      <td>29.0</td>\n",
       "      <td>0.9974</td>\n",
       "      <td>3.26</td>\n",
       "      <td>1.56</td>\n",
       "      <td>9.1</td>\n",
       "      <td>5</td>\n",
       "    </tr>\n",
       "    <tr>\n",
       "      <th>14</th>\n",
       "      <td>8.9</td>\n",
       "      <td>0.620</td>\n",
       "      <td>0.18</td>\n",
       "      <td>3.8</td>\n",
       "      <td>0.176</td>\n",
       "      <td>52.0</td>\n",
       "      <td>145.0</td>\n",
       "      <td>0.9986</td>\n",
       "      <td>3.16</td>\n",
       "      <td>0.88</td>\n",
       "      <td>9.2</td>\n",
       "      <td>5</td>\n",
       "    </tr>\n",
       "    <tr>\n",
       "      <th>15</th>\n",
       "      <td>8.9</td>\n",
       "      <td>0.620</td>\n",
       "      <td>0.19</td>\n",
       "      <td>3.9</td>\n",
       "      <td>0.170</td>\n",
       "      <td>51.0</td>\n",
       "      <td>148.0</td>\n",
       "      <td>0.9986</td>\n",
       "      <td>3.17</td>\n",
       "      <td>0.93</td>\n",
       "      <td>9.2</td>\n",
       "      <td>5</td>\n",
       "    </tr>\n",
       "    <tr>\n",
       "      <th>16</th>\n",
       "      <td>8.5</td>\n",
       "      <td>0.280</td>\n",
       "      <td>0.56</td>\n",
       "      <td>1.8</td>\n",
       "      <td>0.092</td>\n",
       "      <td>35.0</td>\n",
       "      <td>103.0</td>\n",
       "      <td>0.9969</td>\n",
       "      <td>3.30</td>\n",
       "      <td>0.75</td>\n",
       "      <td>10.5</td>\n",
       "      <td>7</td>\n",
       "    </tr>\n",
       "    <tr>\n",
       "      <th>17</th>\n",
       "      <td>8.1</td>\n",
       "      <td>0.560</td>\n",
       "      <td>0.28</td>\n",
       "      <td>1.7</td>\n",
       "      <td>0.368</td>\n",
       "      <td>16.0</td>\n",
       "      <td>56.0</td>\n",
       "      <td>0.9968</td>\n",
       "      <td>3.11</td>\n",
       "      <td>1.28</td>\n",
       "      <td>9.3</td>\n",
       "      <td>5</td>\n",
       "    </tr>\n",
       "    <tr>\n",
       "      <th>18</th>\n",
       "      <td>7.4</td>\n",
       "      <td>0.590</td>\n",
       "      <td>0.08</td>\n",
       "      <td>4.4</td>\n",
       "      <td>0.086</td>\n",
       "      <td>6.0</td>\n",
       "      <td>29.0</td>\n",
       "      <td>0.9974</td>\n",
       "      <td>3.38</td>\n",
       "      <td>0.50</td>\n",
       "      <td>9.0</td>\n",
       "      <td>4</td>\n",
       "    </tr>\n",
       "    <tr>\n",
       "      <th>19</th>\n",
       "      <td>7.9</td>\n",
       "      <td>0.320</td>\n",
       "      <td>0.51</td>\n",
       "      <td>1.8</td>\n",
       "      <td>0.341</td>\n",
       "      <td>17.0</td>\n",
       "      <td>56.0</td>\n",
       "      <td>0.9969</td>\n",
       "      <td>3.04</td>\n",
       "      <td>1.08</td>\n",
       "      <td>9.2</td>\n",
       "      <td>6</td>\n",
       "    </tr>\n",
       "  </tbody>\n",
       "</table>\n",
       "</div>"
      ],
      "text/plain": [
       "    Parameter 1  Parameter 2  Parameter 3  Parameter 4  Parameter 5  \\\n",
       "0           7.4        0.700         0.00          1.9        0.076   \n",
       "1           7.8        0.880         0.00          2.6        0.098   \n",
       "2           7.8        0.760         0.04          2.3        0.092   \n",
       "3          11.2        0.280         0.56          1.9        0.075   \n",
       "4           7.4        0.700         0.00          1.9        0.076   \n",
       "5           7.4        0.660         0.00          1.8        0.075   \n",
       "6           7.9        0.600         0.06          1.6        0.069   \n",
       "7           7.3        0.650         0.00          1.2        0.065   \n",
       "8           7.8        0.580         0.02          2.0        0.073   \n",
       "9           7.5        0.500         0.36          6.1        0.071   \n",
       "10          6.7        0.580         0.08          1.8        0.097   \n",
       "11          7.5        0.500         0.36          6.1        0.071   \n",
       "12          5.6        0.615         0.00          1.6        0.089   \n",
       "13          7.8        0.610         0.29          1.6        0.114   \n",
       "14          8.9        0.620         0.18          3.8        0.176   \n",
       "15          8.9        0.620         0.19          3.9        0.170   \n",
       "16          8.5        0.280         0.56          1.8        0.092   \n",
       "17          8.1        0.560         0.28          1.7        0.368   \n",
       "18          7.4        0.590         0.08          4.4        0.086   \n",
       "19          7.9        0.320         0.51          1.8        0.341   \n",
       "\n",
       "    Parameter 6  Parameter 7  Parameter 8  Parameter 9  Parameter 10  \\\n",
       "0          11.0         34.0       0.9978         3.51          0.56   \n",
       "1          25.0         67.0       0.9968         3.20          0.68   \n",
       "2          15.0         54.0       0.9970         3.26          0.65   \n",
       "3          17.0         60.0       0.9980         3.16          0.58   \n",
       "4          11.0         34.0       0.9978         3.51          0.56   \n",
       "5          13.0         40.0       0.9978         3.51          0.56   \n",
       "6          15.0         59.0       0.9964         3.30          0.46   \n",
       "7          15.0         21.0       0.9946         3.39          0.47   \n",
       "8           9.0         18.0       0.9968         3.36          0.57   \n",
       "9          17.0        102.0       0.9978         3.35          0.80   \n",
       "10         15.0         65.0       0.9959         3.28          0.54   \n",
       "11         17.0        102.0       0.9978         3.35          0.80   \n",
       "12         16.0         59.0       0.9943         3.58          0.52   \n",
       "13          9.0         29.0       0.9974         3.26          1.56   \n",
       "14         52.0        145.0       0.9986         3.16          0.88   \n",
       "15         51.0        148.0       0.9986         3.17          0.93   \n",
       "16         35.0        103.0       0.9969         3.30          0.75   \n",
       "17         16.0         56.0       0.9968         3.11          1.28   \n",
       "18          6.0         29.0       0.9974         3.38          0.50   \n",
       "19         17.0         56.0       0.9969         3.04          1.08   \n",
       "\n",
       "    Parameter 11  Signal_Strength  \n",
       "0            9.4                5  \n",
       "1            9.8                5  \n",
       "2            9.8                5  \n",
       "3            9.8                6  \n",
       "4            9.4                5  \n",
       "5            9.4                5  \n",
       "6            9.4                5  \n",
       "7           10.0                7  \n",
       "8            9.5                7  \n",
       "9           10.5                5  \n",
       "10           9.2                5  \n",
       "11          10.5                5  \n",
       "12           9.9                5  \n",
       "13           9.1                5  \n",
       "14           9.2                5  \n",
       "15           9.2                5  \n",
       "16          10.5                7  \n",
       "17           9.3                5  \n",
       "18           9.0                4  \n",
       "19           9.2                6  "
      ]
     },
     "execution_count": 3,
     "metadata": {},
     "output_type": "execute_result"
    }
   ],
   "source": [
    "signal_df = pd.read_csv(\"Signal.csv\")\n",
    "signal_df.head(20)"
   ]
  },
  {
   "cell_type": "code",
   "execution_count": 4,
   "metadata": {
    "id": "bZkDH_1NmZXE"
   },
   "outputs": [],
   "source": [
    "#B. Check for missing values and print percentage for each attribute."
   ]
  },
  {
   "cell_type": "code",
   "execution_count": 5,
   "metadata": {
    "colab": {
     "base_uri": "https://localhost:8080/"
    },
    "id": "ntRAtPKtmZnL",
    "outputId": "fd16aebf-698d-4009-9c64-a48ab25ad74b"
   },
   "outputs": [
    {
     "data": {
      "text/plain": [
       "Parameter 1        0\n",
       "Parameter 2        0\n",
       "Parameter 3        0\n",
       "Parameter 4        0\n",
       "Parameter 5        0\n",
       "Parameter 6        0\n",
       "Parameter 7        0\n",
       "Parameter 8        0\n",
       "Parameter 9        0\n",
       "Parameter 10       0\n",
       "Parameter 11       0\n",
       "Signal_Strength    0\n",
       "dtype: int64"
      ]
     },
     "execution_count": 5,
     "metadata": {},
     "output_type": "execute_result"
    }
   ],
   "source": [
    "signal_df.isna().sum()"
   ]
  },
  {
   "cell_type": "code",
   "execution_count": 6,
   "metadata": {
    "colab": {
     "base_uri": "https://localhost:8080/"
    },
    "id": "HDZNIyGzmZpY",
    "outputId": "15d847c2-878c-4627-d060-7474755c533b"
   },
   "outputs": [
    {
     "name": "stdout",
     "output_type": "stream",
     "text": [
      "Parameter 1        0.0\n",
      "Parameter 2        0.0\n",
      "Parameter 3        0.0\n",
      "Parameter 4        0.0\n",
      "Parameter 5        0.0\n",
      "Parameter 6        0.0\n",
      "Parameter 7        0.0\n",
      "Parameter 8        0.0\n",
      "Parameter 9        0.0\n",
      "Parameter 10       0.0\n",
      "Parameter 11       0.0\n",
      "Signal_Strength    0.0\n",
      "dtype: float64\n"
     ]
    }
   ],
   "source": [
    "print (signal_df.isnull().sum() * 100 /len(signal_df))"
   ]
  },
  {
   "cell_type": "code",
   "execution_count": 7,
   "metadata": {
    "colab": {
     "base_uri": "https://localhost:8080/"
    },
    "id": "h6qk44RTmZtG",
    "outputId": "46a27183-24a6-4758-888d-d8abdd63faed"
   },
   "outputs": [
    {
     "name": "stdout",
     "output_type": "stream",
     "text": [
      "<class 'pandas.core.frame.DataFrame'>\n",
      "RangeIndex: 1599 entries, 0 to 1598\n",
      "Data columns (total 12 columns):\n",
      " #   Column           Non-Null Count  Dtype  \n",
      "---  ------           --------------  -----  \n",
      " 0   Parameter 1      1599 non-null   float64\n",
      " 1   Parameter 2      1599 non-null   float64\n",
      " 2   Parameter 3      1599 non-null   float64\n",
      " 3   Parameter 4      1599 non-null   float64\n",
      " 4   Parameter 5      1599 non-null   float64\n",
      " 5   Parameter 6      1599 non-null   float64\n",
      " 6   Parameter 7      1599 non-null   float64\n",
      " 7   Parameter 8      1599 non-null   float64\n",
      " 8   Parameter 9      1599 non-null   float64\n",
      " 9   Parameter 10     1599 non-null   float64\n",
      " 10  Parameter 11     1599 non-null   float64\n",
      " 11  Signal_Strength  1599 non-null   int64  \n",
      "dtypes: float64(11), int64(1)\n",
      "memory usage: 150.0 KB\n"
     ]
    }
   ],
   "source": [
    "signal_df.info()"
   ]
  },
  {
   "cell_type": "code",
   "execution_count": 8,
   "metadata": {
    "id": "kLlZne2ZmZwH"
   },
   "outputs": [],
   "source": [
    "\n",
    "# Signal Strength is actually a categorical value indicating signal strenth \n",
    "#the other parameters are all float values."
   ]
  },
  {
   "cell_type": "code",
   "execution_count": 9,
   "metadata": {
    "id": "IhFPg40-LNsb"
   },
   "outputs": [],
   "source": [
    "# C. Check for presence of duplicate records in the dataset and impute with appropriate method"
   ]
  },
  {
   "cell_type": "code",
   "execution_count": 10,
   "metadata": {
    "colab": {
     "base_uri": "https://localhost:8080/"
    },
    "id": "gyoqZfS0LbGb",
    "outputId": "24854dfc-8516-46ba-b42c-85f169922e43"
   },
   "outputs": [
    {
     "data": {
      "text/plain": [
       "True"
      ]
     },
     "execution_count": 10,
     "metadata": {},
     "output_type": "execute_result"
    }
   ],
   "source": [
    "signal_df.duplicated().any()"
   ]
  },
  {
   "cell_type": "code",
   "execution_count": 11,
   "metadata": {
    "colab": {
     "base_uri": "https://localhost:8080/"
    },
    "id": "eO9Pnk8jLlAL",
    "outputId": "614e3373-3c64-4568-bb86-ec9a37cd1efc"
   },
   "outputs": [
    {
     "data": {
      "text/plain": [
       "240"
      ]
     },
     "execution_count": 11,
     "metadata": {},
     "output_type": "execute_result"
    }
   ],
   "source": [
    "signal_df.duplicated().sum()"
   ]
  },
  {
   "cell_type": "code",
   "execution_count": 12,
   "metadata": {
    "id": "s-dBCPhDLlH0"
   },
   "outputs": [],
   "source": [
    "signal_df.drop_duplicates(keep = 'first',inplace = True)"
   ]
  },
  {
   "cell_type": "code",
   "execution_count": 13,
   "metadata": {
    "colab": {
     "base_uri": "https://localhost:8080/"
    },
    "id": "ywPuYA1ALlMH",
    "outputId": "a0248b64-8245-47fb-fb4c-860ffdbe2fed"
   },
   "outputs": [
    {
     "data": {
      "text/plain": [
       "(1359, 12)"
      ]
     },
     "execution_count": 13,
     "metadata": {},
     "output_type": "execute_result"
    }
   ],
   "source": [
    "signal_df.shape"
   ]
  },
  {
   "cell_type": "code",
   "execution_count": 14,
   "metadata": {
    "id": "rYqS61H6MWhm"
   },
   "outputs": [],
   "source": [
    "#D. Visualise distribution of the target variable"
   ]
  },
  {
   "cell_type": "code",
   "execution_count": 15,
   "metadata": {
    "colab": {
     "base_uri": "https://localhost:8080/",
     "height": 300
    },
    "id": "OXZHE66uMYwN",
    "outputId": "348201b7-6f65-433b-9c01-9ec1866037fa"
   },
   "outputs": [
    {
     "data": {
      "text/plain": [
       "<AxesSubplot:xlabel='Signal_Strength', ylabel='Count'>"
      ]
     },
     "execution_count": 15,
     "metadata": {},
     "output_type": "execute_result"
    },
    {
     "data": {
      "image/png": "[encoded data removed]",
      "text/plain": [
       "<Figure size 432x288 with 1 Axes>"
      ]
     },
     "metadata": {
      "needs_background": "light"
     },
     "output_type": "display_data"
    }
   ],
   "source": [
    "sns.histplot(data = signal_df, x = \"Signal_Strength\", kde = True)"
   ]
  },
  {
   "cell_type": "code",
   "execution_count": 16,
   "metadata": {
    "colab": {
     "base_uri": "https://localhost:8080/"
    },
    "id": "kJ1KzmdvMexM",
    "outputId": "d841cfec-97eb-447f-fab6-41c039d0ab9c"
   },
   "outputs": [
    {
     "data": {
      "text/plain": [
       "5    577\n",
       "6    535\n",
       "7    167\n",
       "4     53\n",
       "8     17\n",
       "3     10\n",
       "Name: Signal_Strength, dtype: int64"
      ]
     },
     "execution_count": 16,
     "metadata": {},
     "output_type": "execute_result"
    }
   ],
   "source": [
    "signal_df['Signal_Strength'].value_counts()"
   ]
  },
  {
   "cell_type": "code",
   "execution_count": 17,
   "metadata": {
    "id": "HJqgIs9WMnRs"
   },
   "outputs": [],
   "source": [
    "#E. Share insights from the initial data analysis (at least 2) ans:The signal strenth which is the target show \n",
    "#almost a uniform distribution across the strength corresponding to '4,5,6,7'.\n",
    "# Majority of the signal waves fall into the category of '5'and '6' of which the class'5' is having most signals. \n",
    "#the category '4' and '7' though show remarkable cluster of signal strenth the waves are falling on. \n",
    "#the category '3' and '4' are sparse when considering the class of signal strenth,\n",
    "#which indicates that very weak and very strong signals are found least in count in our case. \n",
    "#The dataset seems to be imbalanced among the varoius strength values and not equally."
   ]
  },
  {
   "cell_type": "code",
   "execution_count": 18,
   "metadata": {
    "id": "UONjkvCbMncG"
   },
   "outputs": [],
   "source": [
    "#2.Data preprocessing A. Split the data into X & Y."
   ]
  },
  {
   "cell_type": "code",
   "execution_count": 19,
   "metadata": {
    "id": "IwJM2uBxMne-"
   },
   "outputs": [],
   "source": [
    "X = signal_df.drop(['Signal_Strength'], axis=1)\n",
    "Y = signal_df['Signal_Strength']"
   ]
  },
  {
   "cell_type": "code",
   "execution_count": 20,
   "metadata": {
    "id": "a0etI6t9MezZ"
   },
   "outputs": [],
   "source": [
    "#B. Split the data into train & test with 70:30 proportion."
   ]
  },
  {
   "cell_type": "code",
   "execution_count": 21,
   "metadata": {
    "id": "HTphmvcHMe2Q"
   },
   "outputs": [],
   "source": [
    "# split into train test sets\n",
    "X_train, X_test, y_train, y_test = train_test_split(X, Y, test_size=0.30, random_state =7)"
   ]
  },
  {
   "cell_type": "code",
   "execution_count": 22,
   "metadata": {
    "colab": {
     "base_uri": "https://localhost:8080/"
    },
    "id": "zgX4SUQSMe5H",
    "outputId": "1b4aa5db-16db-49ac-b01d-505d2d3e65af"
   },
   "outputs": [
    {
     "name": "stdout",
     "output_type": "stream",
     "text": [
      "(951, 11)\n",
      "(408, 11)\n",
      "(951,)\n",
      "(408,)\n"
     ]
    }
   ],
   "source": [
    "#C. Print shape of all the 4 variables and verify if train and test data is in sync.\n",
    "print(X_train.shape)\n",
    "print(X_test.shape)\n",
    "print(y_train.shape)\n",
    "print(y_test.shape)\n"
   ]
  },
  {
   "cell_type": "code",
   "execution_count": 23,
   "metadata": {
    "colab": {
     "base_uri": "https://localhost:8080/"
    },
    "id": "amP7TYLqN6o3",
    "outputId": "14698f24-0ffb-48b6-fb56-cc8b2260ae56"
   },
   "outputs": [
    {
     "data": {
      "text/plain": [
       "5    577\n",
       "6    535\n",
       "7    167\n",
       "4     53\n",
       "8     17\n",
       "3     10\n",
       "Name: Signal_Strength, dtype: int64"
      ]
     },
     "execution_count": 23,
     "metadata": {},
     "output_type": "execute_result"
    }
   ],
   "source": [
    "#the test train data is in sync.\n",
    "\n",
    "Y.value_counts()"
   ]
  },
  {
   "cell_type": "code",
   "execution_count": 24,
   "metadata": {
    "id": "Tu9iL6MJN6r3"
   },
   "outputs": [],
   "source": [
    "#D. Normalise the train and test data with appropriate method."
   ]
  },
  {
   "cell_type": "code",
   "execution_count": 25,
   "metadata": {
    "id": "VpyRIzDZOJtJ"
   },
   "outputs": [],
   "source": [
    "X_train = preprocessing.normalize(X_train)\n",
    "X_test = preprocessing.normalize(X_test)\n"
   ]
  },
  {
   "cell_type": "code",
   "execution_count": 26,
   "metadata": {
    "colab": {
     "base_uri": "https://localhost:8080/"
    },
    "id": "xeypyZw3OJux",
    "outputId": "b9a02e8e-be7a-4561-ae95-422c292af608"
   },
   "outputs": [
    {
     "name": "stdout",
     "output_type": "stream",
     "text": [
      "[[0. 0. 0. ... 1. 0. 0.]\n",
      " [0. 0. 0. ... 1. 0. 0.]\n",
      " [0. 0. 0. ... 1. 0. 0.]\n",
      " ...\n",
      " [0. 0. 0. ... 0. 0. 0.]\n",
      " [0. 0. 0. ... 1. 0. 0.]\n",
      " [0. 0. 0. ... 0. 1. 0.]]\n"
     ]
    }
   ],
   "source": [
    "#E. Transform Labels into format acceptable by Neural Network\n",
    "# encode class values as integers\n",
    "from keras.utils import np_utils\n",
    "\n",
    "# convert integers to dummy variables (i.e. one hot encoded)\n",
    "y_train_cat = np_utils.to_categorical(y_train)\n",
    "print(y_train_cat)"
   ]
  },
  {
   "cell_type": "code",
   "execution_count": 27,
   "metadata": {
    "colab": {
     "base_uri": "https://localhost:8080/"
    },
    "id": "hI622FYw2QEe",
    "outputId": "611f7e00-b3e2-414c-d31d-c41fbf4e3ca5"
   },
   "outputs": [
    {
     "name": "stdout",
     "output_type": "stream",
     "text": [
      "(951, 9)\n"
     ]
    }
   ],
   "source": [
    "print(y_train_cat.shape)"
   ]
  },
  {
   "cell_type": "code",
   "execution_count": 28,
   "metadata": {
    "colab": {
     "base_uri": "https://localhost:8080/"
    },
    "id": "xPbYPjNzCB-o",
    "outputId": "67e9367a-be07-4e7a-eb70-81cae22e5fba"
   },
   "outputs": [
    {
     "name": "stdout",
     "output_type": "stream",
     "text": [
      "(408, 9)\n"
     ]
    }
   ],
   "source": [
    "\n",
    "y_test_cat = np_utils.to_categorical(y_test)\n",
    "\n",
    "print((y_test_cat.shape))"
   ]
  },
  {
   "cell_type": "code",
   "execution_count": 29,
   "metadata": {
    "id": "xoSMjsUZOJ1c"
   },
   "outputs": [],
   "source": [
    "#3. Model Training & Evaluation using Neural Network \n",
    "#A. Design a Neural Network to train a classifier. "
   ]
  },
  {
   "cell_type": "code",
   "execution_count": 30,
   "metadata": {
    "id": "7g9bzfs5rdGM"
   },
   "outputs": [],
   "source": [
    "model = Sequential()\n",
    "model.add(Dense(20, input_shape = (11,), activation = 'relu'))\n",
    "model.add(Dense(20, activation = 'relu'))\n",
    "model.add(Dense(9))\n",
    "model.add(Activation('softmax'))\n"
   ]
  },
  {
   "cell_type": "code",
   "execution_count": 31,
   "metadata": {
    "id": "o8BDn9JGx0zB"
   },
   "outputs": [
    {
     "name": "stderr",
     "output_type": "stream",
     "text": [
      "C:\\Users\\vrooky-montzo\\AppData\\Roaming\\Python\\Python39\\site-packages\\keras\\optimizer_v2\\adam.py:105: UserWarning: The `lr` argument is deprecated, use `learning_rate` instead.\n",
      "  super(Adam, self).__init__(name, **kwargs)\n"
     ]
    }
   ],
   "source": [
    "sgd = optimizers.Adam(lr = 0.01)"
   ]
  },
  {
   "cell_type": "code",
   "execution_count": 32,
   "metadata": {
    "id": "6-Ol-50qx5df"
   },
   "outputs": [],
   "source": [
    "model.compile(optimizer = sgd, loss = 'categorical_crossentropy', metrics=['accuracy'])"
   ]
  },
  {
   "cell_type": "code",
   "execution_count": 33,
   "metadata": {
    "colab": {
     "base_uri": "https://localhost:8080/"
    },
    "id": "yJrh-25uyGNh",
    "outputId": "4293c81d-bcc1-4785-8cdc-67e44b50f6fa"
   },
   "outputs": [
    {
     "name": "stdout",
     "output_type": "stream",
     "text": [
      "Model: \"sequential\"\n",
      "_________________________________________________________________\n",
      " Layer (type)                Output Shape              Param #   \n",
      "=================================================================\n",
      " dense (Dense)               (None, 20)                240       \n",
      "                                                                 \n",
      " dense_1 (Dense)             (None, 20)                420       \n",
      "                                                                 \n",
      " dense_2 (Dense)             (None, 9)                 189       \n",
      "                                                                 \n",
      " activation (Activation)     (None, 9)                 0         \n",
      "                                                                 \n",
      "=================================================================\n",
      "Total params: 849\n",
      "Trainable params: 849\n",
      "Non-trainable params: 0\n",
      "_________________________________________________________________\n"
     ]
    }
   ],
   "source": [
    "model.summary()"
   ]
  },
  {
   "cell_type": "markdown",
   "metadata": {},
   "source": [
    "B. Train the classifier using previously designed Architecture"
   ]
  },
  {
   "cell_type": "code",
   "execution_count": 34,
   "metadata": {
    "colab": {
     "base_uri": "https://localhost:8080/"
    },
    "id": "Cvf13JavzYMj",
    "outputId": "45898025-9184-4b6f-ec05-5d0517e31fd0"
   },
   "outputs": [
    {
     "name": "stdout",
     "output_type": "stream",
     "text": [
      "Epoch 1/100\n",
      "8/8 [==============================] - 1s 41ms/step - loss: 1.8485 - accuracy: 0.4053 - val_loss: 1.5626 - val_accuracy: 0.4031\n",
      "Epoch 2/100\n",
      "8/8 [==============================] - 0s 7ms/step - loss: 1.5007 - accuracy: 0.4053 - val_loss: 1.3215 - val_accuracy: 0.4031\n",
      "Epoch 3/100\n",
      "8/8 [==============================] - 0s 6ms/step - loss: 1.3163 - accuracy: 0.4105 - val_loss: 1.2112 - val_accuracy: 0.4450\n",
      "Epoch 4/100\n",
      "8/8 [==============================] - 0s 6ms/step - loss: 1.2762 - accuracy: 0.3961 - val_loss: 1.1855 - val_accuracy: 0.4450\n",
      "Epoch 5/100\n",
      "8/8 [==============================] - 0s 7ms/step - loss: 1.2478 - accuracy: 0.4118 - val_loss: 1.1715 - val_accuracy: 0.4136\n",
      "Epoch 6/100\n",
      "8/8 [==============================] - 0s 7ms/step - loss: 1.2356 - accuracy: 0.4066 - val_loss: 1.1641 - val_accuracy: 0.4607\n",
      "Epoch 7/100\n",
      "8/8 [==============================] - 0s 8ms/step - loss: 1.2241 - accuracy: 0.4697 - val_loss: 1.1486 - val_accuracy: 0.5026\n",
      "Epoch 8/100\n",
      "8/8 [==============================] - 0s 8ms/step - loss: 1.2143 - accuracy: 0.4882 - val_loss: 1.1414 - val_accuracy: 0.4974\n",
      "Epoch 9/100\n",
      "8/8 [==============================] - 0s 7ms/step - loss: 1.2044 - accuracy: 0.4566 - val_loss: 1.1394 - val_accuracy: 0.4817\n",
      "Epoch 10/100\n",
      "8/8 [==============================] - 0s 6ms/step - loss: 1.1976 - accuracy: 0.4421 - val_loss: 1.1312 - val_accuracy: 0.4869\n",
      "Epoch 11/100\n",
      "8/8 [==============================] - 0s 8ms/step - loss: 1.1901 - accuracy: 0.4658 - val_loss: 1.1255 - val_accuracy: 0.5079\n",
      "Epoch 12/100\n",
      "8/8 [==============================] - 0s 8ms/step - loss: 1.1849 - accuracy: 0.4921 - val_loss: 1.1228 - val_accuracy: 0.4817\n",
      "Epoch 13/100\n",
      "8/8 [==============================] - 0s 8ms/step - loss: 1.1786 - accuracy: 0.4763 - val_loss: 1.1197 - val_accuracy: 0.5079\n",
      "Epoch 14/100\n",
      "8/8 [==============================] - 0s 9ms/step - loss: 1.1749 - accuracy: 0.5013 - val_loss: 1.1161 - val_accuracy: 0.5131\n",
      "Epoch 15/100\n",
      "8/8 [==============================] - 0s 9ms/step - loss: 1.1714 - accuracy: 0.4855 - val_loss: 1.1157 - val_accuracy: 0.5079\n",
      "Epoch 16/100\n",
      "8/8 [==============================] - 0s 8ms/step - loss: 1.1693 - accuracy: 0.5145 - val_loss: 1.1175 - val_accuracy: 0.5079\n",
      "Epoch 17/100\n",
      "8/8 [==============================] - 0s 7ms/step - loss: 1.1656 - accuracy: 0.4842 - val_loss: 1.1207 - val_accuracy: 0.5026\n",
      "Epoch 18/100\n",
      "8/8 [==============================] - 0s 9ms/step - loss: 1.1651 - accuracy: 0.5000 - val_loss: 1.1154 - val_accuracy: 0.5026\n",
      "Epoch 19/100\n",
      "8/8 [==============================] - 0s 8ms/step - loss: 1.1598 - accuracy: 0.4842 - val_loss: 1.1200 - val_accuracy: 0.5026\n",
      "Epoch 20/100\n",
      "8/8 [==============================] - 0s 9ms/step - loss: 1.1552 - accuracy: 0.5013 - val_loss: 1.1138 - val_accuracy: 0.5131\n",
      "Epoch 21/100\n",
      "8/8 [==============================] - 0s 9ms/step - loss: 1.1561 - accuracy: 0.4868 - val_loss: 1.1207 - val_accuracy: 0.5183\n",
      "Epoch 22/100\n",
      "8/8 [==============================] - 0s 8ms/step - loss: 1.1575 - accuracy: 0.4974 - val_loss: 1.1150 - val_accuracy: 0.5236\n",
      "Epoch 23/100\n",
      "8/8 [==============================] - 0s 7ms/step - loss: 1.1534 - accuracy: 0.5092 - val_loss: 1.1258 - val_accuracy: 0.4921\n",
      "Epoch 24/100\n",
      "8/8 [==============================] - 0s 7ms/step - loss: 1.1583 - accuracy: 0.4961 - val_loss: 1.1410 - val_accuracy: 0.4974\n",
      "Epoch 25/100\n",
      "8/8 [==============================] - 0s 8ms/step - loss: 1.1721 - accuracy: 0.5118 - val_loss: 1.1286 - val_accuracy: 0.4869\n",
      "Epoch 26/100\n",
      "8/8 [==============================] - 0s 9ms/step - loss: 1.1494 - accuracy: 0.5039 - val_loss: 1.1211 - val_accuracy: 0.5079\n",
      "Epoch 27/100\n",
      "8/8 [==============================] - 0s 7ms/step - loss: 1.1465 - accuracy: 0.5039 - val_loss: 1.1266 - val_accuracy: 0.4921\n",
      "Epoch 28/100\n",
      "8/8 [==============================] - 0s 6ms/step - loss: 1.1479 - accuracy: 0.4974 - val_loss: 1.1136 - val_accuracy: 0.4921\n",
      "Epoch 29/100\n",
      "8/8 [==============================] - 0s 7ms/step - loss: 1.1439 - accuracy: 0.5053 - val_loss: 1.1173 - val_accuracy: 0.5183\n",
      "Epoch 30/100\n",
      "8/8 [==============================] - 0s 8ms/step - loss: 1.1421 - accuracy: 0.5224 - val_loss: 1.1148 - val_accuracy: 0.5236\n",
      "Epoch 31/100\n",
      "8/8 [==============================] - 0s 8ms/step - loss: 1.1400 - accuracy: 0.4974 - val_loss: 1.1067 - val_accuracy: 0.5131\n",
      "Epoch 32/100\n",
      "8/8 [==============================] - 0s 7ms/step - loss: 1.1419 - accuracy: 0.5118 - val_loss: 1.1090 - val_accuracy: 0.5183\n",
      "Epoch 33/100\n",
      "8/8 [==============================] - 0s 6ms/step - loss: 1.1418 - accuracy: 0.5092 - val_loss: 1.1166 - val_accuracy: 0.5079\n",
      "Epoch 34/100\n",
      "8/8 [==============================] - 0s 6ms/step - loss: 1.1353 - accuracy: 0.5053 - val_loss: 1.1059 - val_accuracy: 0.5079\n",
      "Epoch 35/100\n",
      "8/8 [==============================] - 0s 8ms/step - loss: 1.1352 - accuracy: 0.5158 - val_loss: 1.1119 - val_accuracy: 0.5236\n",
      "Epoch 36/100\n",
      "8/8 [==============================] - 0s 10ms/step - loss: 1.1296 - accuracy: 0.5145 - val_loss: 1.1045 - val_accuracy: 0.5079\n",
      "Epoch 37/100\n",
      "8/8 [==============================] - 0s 8ms/step - loss: 1.1306 - accuracy: 0.5158 - val_loss: 1.1040 - val_accuracy: 0.5131\n",
      "Epoch 38/100\n",
      "8/8 [==============================] - 0s 8ms/step - loss: 1.1281 - accuracy: 0.5224 - val_loss: 1.1114 - val_accuracy: 0.5236\n",
      "Epoch 39/100\n",
      "8/8 [==============================] - 0s 7ms/step - loss: 1.1333 - accuracy: 0.5158 - val_loss: 1.1086 - val_accuracy: 0.5288\n",
      "Epoch 40/100\n",
      "8/8 [==============================] - 0s 7ms/step - loss: 1.1366 - accuracy: 0.5145 - val_loss: 1.1004 - val_accuracy: 0.5183\n",
      "Epoch 41/100\n",
      "8/8 [==============================] - 0s 6ms/step - loss: 1.1232 - accuracy: 0.5224 - val_loss: 1.1081 - val_accuracy: 0.5340\n",
      "Epoch 42/100\n",
      "8/8 [==============================] - 0s 6ms/step - loss: 1.1253 - accuracy: 0.5158 - val_loss: 1.1069 - val_accuracy: 0.5288\n",
      "Epoch 43/100\n",
      "8/8 [==============================] - 0s 7ms/step - loss: 1.1254 - accuracy: 0.5237 - val_loss: 1.0989 - val_accuracy: 0.5288\n",
      "Epoch 44/100\n",
      "8/8 [==============================] - 0s 8ms/step - loss: 1.1277 - accuracy: 0.5184 - val_loss: 1.1057 - val_accuracy: 0.5131\n",
      "Epoch 45/100\n",
      "8/8 [==============================] - 0s 5ms/step - loss: 1.1284 - accuracy: 0.5368 - val_loss: 1.1030 - val_accuracy: 0.5340\n",
      "Epoch 46/100\n",
      "8/8 [==============================] - 0s 6ms/step - loss: 1.1260 - accuracy: 0.5276 - val_loss: 1.0967 - val_accuracy: 0.5288\n",
      "Epoch 47/100\n",
      "8/8 [==============================] - 0s 6ms/step - loss: 1.1250 - accuracy: 0.5184 - val_loss: 1.1037 - val_accuracy: 0.5079\n",
      "Epoch 48/100\n",
      "8/8 [==============================] - 0s 6ms/step - loss: 1.1285 - accuracy: 0.5355 - val_loss: 1.1042 - val_accuracy: 0.5183\n",
      "Epoch 49/100\n",
      "8/8 [==============================] - 0s 5ms/step - loss: 1.1156 - accuracy: 0.5250 - val_loss: 1.1209 - val_accuracy: 0.5026\n",
      "Epoch 50/100\n",
      "8/8 [==============================] - 0s 5ms/step - loss: 1.1295 - accuracy: 0.5447 - val_loss: 1.1240 - val_accuracy: 0.5079\n",
      "Epoch 51/100\n",
      "8/8 [==============================] - 0s 7ms/step - loss: 1.1369 - accuracy: 0.5263 - val_loss: 1.0955 - val_accuracy: 0.5236\n",
      "Epoch 52/100\n",
      "8/8 [==============================] - 0s 7ms/step - loss: 1.1167 - accuracy: 0.5263 - val_loss: 1.0816 - val_accuracy: 0.5288\n",
      "Epoch 53/100\n",
      "8/8 [==============================] - 0s 7ms/step - loss: 1.1167 - accuracy: 0.5368 - val_loss: 1.0879 - val_accuracy: 0.5288\n",
      "Epoch 54/100\n",
      "8/8 [==============================] - 0s 7ms/step - loss: 1.1163 - accuracy: 0.5342 - val_loss: 1.0890 - val_accuracy: 0.5393\n",
      "Epoch 55/100\n",
      "8/8 [==============================] - 0s 6ms/step - loss: 1.1236 - accuracy: 0.5303 - val_loss: 1.0960 - val_accuracy: 0.5131\n",
      "Epoch 56/100\n",
      "8/8 [==============================] - 0s 6ms/step - loss: 1.1282 - accuracy: 0.5079 - val_loss: 1.0932 - val_accuracy: 0.5131\n",
      "Epoch 57/100\n",
      "8/8 [==============================] - 0s 6ms/step - loss: 1.1121 - accuracy: 0.5316 - val_loss: 1.0817 - val_accuracy: 0.5340\n",
      "Epoch 58/100\n",
      "8/8 [==============================] - 0s 7ms/step - loss: 1.1090 - accuracy: 0.5368 - val_loss: 1.0738 - val_accuracy: 0.5393\n",
      "Epoch 59/100\n",
      "8/8 [==============================] - 0s 6ms/step - loss: 1.1030 - accuracy: 0.5316 - val_loss: 1.0881 - val_accuracy: 0.5288\n",
      "Epoch 60/100\n",
      "8/8 [==============================] - 0s 6ms/step - loss: 1.1009 - accuracy: 0.5355 - val_loss: 1.0815 - val_accuracy: 0.5340\n",
      "Epoch 61/100\n",
      "8/8 [==============================] - 0s 6ms/step - loss: 1.0997 - accuracy: 0.5250 - val_loss: 1.0721 - val_accuracy: 0.5236\n",
      "Epoch 62/100\n",
      "8/8 [==============================] - 0s 6ms/step - loss: 1.0986 - accuracy: 0.5395 - val_loss: 1.0771 - val_accuracy: 0.5236\n",
      "Epoch 63/100\n",
      "8/8 [==============================] - 0s 6ms/step - loss: 1.0948 - accuracy: 0.5513 - val_loss: 1.0665 - val_accuracy: 0.5393\n",
      "Epoch 64/100\n",
      "8/8 [==============================] - 0s 6ms/step - loss: 1.0928 - accuracy: 0.5382 - val_loss: 1.0727 - val_accuracy: 0.5393\n",
      "Epoch 65/100\n",
      "8/8 [==============================] - 0s 6ms/step - loss: 1.0880 - accuracy: 0.5447 - val_loss: 1.0674 - val_accuracy: 0.5236\n",
      "Epoch 66/100\n",
      "8/8 [==============================] - 0s 8ms/step - loss: 1.0875 - accuracy: 0.5553 - val_loss: 1.1083 - val_accuracy: 0.5236\n",
      "Epoch 67/100\n",
      "8/8 [==============================] - 0s 8ms/step - loss: 1.1236 - accuracy: 0.5303 - val_loss: 1.0779 - val_accuracy: 0.5236\n",
      "Epoch 68/100\n",
      "8/8 [==============================] - 0s 8ms/step - loss: 1.0857 - accuracy: 0.5421 - val_loss: 1.0606 - val_accuracy: 0.5288\n",
      "Epoch 69/100\n",
      "8/8 [==============================] - 0s 8ms/step - loss: 1.0841 - accuracy: 0.5355 - val_loss: 1.0586 - val_accuracy: 0.5288\n",
      "Epoch 70/100\n",
      "8/8 [==============================] - 0s 8ms/step - loss: 1.0817 - accuracy: 0.5434 - val_loss: 1.0626 - val_accuracy: 0.5079\n",
      "Epoch 71/100\n",
      "8/8 [==============================] - 0s 7ms/step - loss: 1.0835 - accuracy: 0.5539 - val_loss: 1.0550 - val_accuracy: 0.5288\n",
      "Epoch 72/100\n",
      "8/8 [==============================] - 0s 8ms/step - loss: 1.0740 - accuracy: 0.5474 - val_loss: 1.0570 - val_accuracy: 0.5340\n",
      "Epoch 73/100\n",
      "8/8 [==============================] - 0s 8ms/step - loss: 1.0794 - accuracy: 0.5408 - val_loss: 1.0558 - val_accuracy: 0.5183\n",
      "Epoch 74/100\n",
      "8/8 [==============================] - 0s 6ms/step - loss: 1.0762 - accuracy: 0.5329 - val_loss: 1.0565 - val_accuracy: 0.5288\n",
      "Epoch 75/100\n",
      "8/8 [==============================] - 0s 7ms/step - loss: 1.0821 - accuracy: 0.5513 - val_loss: 1.0521 - val_accuracy: 0.5079\n",
      "Epoch 76/100\n",
      "8/8 [==============================] - 0s 8ms/step - loss: 1.0728 - accuracy: 0.5553 - val_loss: 1.0527 - val_accuracy: 0.5393\n",
      "Epoch 77/100\n",
      "8/8 [==============================] - 0s 8ms/step - loss: 1.0731 - accuracy: 0.5303 - val_loss: 1.0566 - val_accuracy: 0.5288\n",
      "Epoch 78/100\n",
      "8/8 [==============================] - 0s 8ms/step - loss: 1.0670 - accuracy: 0.5632 - val_loss: 1.0419 - val_accuracy: 0.5079\n",
      "Epoch 79/100\n",
      "8/8 [==============================] - 0s 9ms/step - loss: 1.0787 - accuracy: 0.5474 - val_loss: 1.0451 - val_accuracy: 0.5183\n",
      "Epoch 80/100\n",
      "8/8 [==============================] - 0s 8ms/step - loss: 1.0659 - accuracy: 0.5461 - val_loss: 1.0448 - val_accuracy: 0.5183\n",
      "Epoch 81/100\n",
      "8/8 [==============================] - 0s 8ms/step - loss: 1.0593 - accuracy: 0.5671 - val_loss: 1.0389 - val_accuracy: 0.5236\n",
      "Epoch 82/100\n",
      "8/8 [==============================] - 0s 8ms/step - loss: 1.0600 - accuracy: 0.5592 - val_loss: 1.0369 - val_accuracy: 0.5236\n",
      "Epoch 83/100\n",
      "8/8 [==============================] - 0s 8ms/step - loss: 1.0575 - accuracy: 0.5553 - val_loss: 1.0492 - val_accuracy: 0.5393\n",
      "Epoch 84/100\n",
      "8/8 [==============================] - 0s 8ms/step - loss: 1.0743 - accuracy: 0.5487 - val_loss: 1.0329 - val_accuracy: 0.5026\n",
      "Epoch 85/100\n",
      "8/8 [==============================] - 0s 9ms/step - loss: 1.0680 - accuracy: 0.5434 - val_loss: 1.0480 - val_accuracy: 0.5131\n",
      "Epoch 86/100\n",
      "8/8 [==============================] - 0s 8ms/step - loss: 1.0666 - accuracy: 0.5539 - val_loss: 1.0509 - val_accuracy: 0.5183\n",
      "Epoch 87/100\n",
      "8/8 [==============================] - 0s 7ms/step - loss: 1.0561 - accuracy: 0.5513 - val_loss: 1.0511 - val_accuracy: 0.5340\n",
      "Epoch 88/100\n",
      "8/8 [==============================] - 0s 8ms/step - loss: 1.0533 - accuracy: 0.5632 - val_loss: 1.0347 - val_accuracy: 0.5183\n",
      "Epoch 89/100\n",
      "8/8 [==============================] - 0s 8ms/step - loss: 1.0522 - accuracy: 0.5553 - val_loss: 1.0346 - val_accuracy: 0.4921\n",
      "Epoch 90/100\n",
      "8/8 [==============================] - 0s 7ms/step - loss: 1.0600 - accuracy: 0.5684 - val_loss: 1.0350 - val_accuracy: 0.5340\n",
      "Epoch 91/100\n",
      "8/8 [==============================] - 0s 7ms/step - loss: 1.0590 - accuracy: 0.5539 - val_loss: 1.0370 - val_accuracy: 0.5340\n",
      "Epoch 92/100\n",
      "8/8 [==============================] - 0s 6ms/step - loss: 1.0550 - accuracy: 0.5500 - val_loss: 1.0383 - val_accuracy: 0.5340\n",
      "Epoch 93/100\n",
      "8/8 [==============================] - 0s 5ms/step - loss: 1.0490 - accuracy: 0.5632 - val_loss: 1.0287 - val_accuracy: 0.5340\n",
      "Epoch 94/100\n",
      "8/8 [==============================] - 0s 6ms/step - loss: 1.0409 - accuracy: 0.5684 - val_loss: 1.0264 - val_accuracy: 0.5497\n",
      "Epoch 95/100\n",
      "8/8 [==============================] - 0s 7ms/step - loss: 1.0415 - accuracy: 0.5645 - val_loss: 1.0392 - val_accuracy: 0.5393\n",
      "Epoch 96/100\n",
      "8/8 [==============================] - 0s 6ms/step - loss: 1.0458 - accuracy: 0.5618 - val_loss: 1.0306 - val_accuracy: 0.5340\n",
      "Epoch 97/100\n",
      "8/8 [==============================] - 0s 7ms/step - loss: 1.0437 - accuracy: 0.5711 - val_loss: 1.0194 - val_accuracy: 0.5288\n",
      "Epoch 98/100\n",
      "8/8 [==============================] - 0s 7ms/step - loss: 1.0415 - accuracy: 0.5592 - val_loss: 1.0171 - val_accuracy: 0.5393\n",
      "Epoch 99/100\n",
      "8/8 [==============================] - 0s 8ms/step - loss: 1.0405 - accuracy: 0.5618 - val_loss: 1.0225 - val_accuracy: 0.5288\n",
      "Epoch 100/100\n",
      "8/8 [==============================] - 0s 8ms/step - loss: 1.0337 - accuracy: 0.5776 - val_loss: 1.0215 - val_accuracy: 0.5340\n"
     ]
    }
   ],
   "source": [
    "history =model.fit(X_train, y_train_cat, batch_size = 100, epochs = 100, validation_split=0.2, verbose = 1)"
   ]
  },
  {
   "cell_type": "code",
   "execution_count": 35,
   "metadata": {},
   "outputs": [
    {
     "name": "stdout",
     "output_type": "stream",
     "text": [
      "13/13 [==============================] - 0s 2ms/step - loss: 0.9951 - accuracy: 0.5466\n"
     ]
    }
   ],
   "source": [
    "results = model.evaluate(X_test, y_test_cat)"
   ]
  },
  {
   "cell_type": "markdown",
   "metadata": {},
   "source": [
    "Accuracy is found to be 57.35%. "
   ]
  },
  {
   "cell_type": "markdown",
   "metadata": {
    "id": "5SQqKcwPT-6i"
   },
   "source": [
    "C. Plot 2 separate visuals. \n",
    "i. Training Loss and Validation Loss"
   ]
  },
  {
   "cell_type": "code",
   "execution_count": 44,
   "metadata": {},
   "outputs": [
    {
     "data": {
      "image/png": "[encoded data removed]",
      "text/plain": [
       "<Figure size 432x288 with 1 Axes>"
      ]
     },
     "metadata": {
      "needs_background": "light"
     },
     "output_type": "display_data"
    }
   ],
   "source": [
    "import matplotlib.pyplot as plt\n",
    "loss_train = history.history['loss']\n",
    "loss_val = history.history['val_loss']\n",
    "epochs =range(1,101)\n",
    "plt.plot(epochs,loss_train, 'g', label = 'Training loss')\n",
    "plt.plot(epochs,loss_val, 'b', label = 'Validation loss')\n",
    "plt.title('Training and Validation loss')\n",
    "plt.xlabel('Epochs')\n",
    "plt.ylabel('Loss')\n",
    "plt.legend()\n",
    "plt.show()\n"
   ]
  },
  {
   "cell_type": "code",
   "execution_count": null,
   "metadata": {},
   "outputs": [],
   "source": [
    "#the training process converged well with bumps in the line curves."
   ]
  },
  {
   "cell_type": "markdown",
   "metadata": {},
   "source": [
    "3.ii. Training Accuracy and Validation Accuracy"
   ]
  },
  {
   "cell_type": "code",
   "execution_count": 45,
   "metadata": {},
   "outputs": [
    {
     "data": {
      "image/png": "[encoded data removed]",
      "text/plain": [
       "<Figure size 432x288 with 1 Axes>"
      ]
     },
     "metadata": {
      "needs_background": "light"
     },
     "output_type": "display_data"
    }
   ],
   "source": [
    "loss_train = history.history['accuracy']\n",
    "loss_val = history.history['val_accuracy']\n",
    "epochs = range(1,101)\n",
    "plt.plot(epochs,loss_train, 'g', label = 'Training accuracy')\n",
    "plt.plot(epochs,loss_val, 'b', label = 'Validation accuracy')\n",
    "plt.title('Training and Validation accuracy')\n",
    "plt.xlabel('Epochs')\n",
    "plt.ylabel('Accuracy')\n",
    "plt.legend()\n",
    "plt.show()"
   ]
  },
  {
   "cell_type": "markdown",
   "metadata": {},
   "source": [
    "Both the loss curve and Accuracy curve seem to be vibrating(not smooth curves). but the training and validation follow the pattern very close.However, the accuracy curve for train and validation shows that our model without dropout and batch normalization is much less an overfit.As expected validation loss is decreased as the model learns and gives a pattern that is ideal of a good learning rate."
   ]
  },
  {
   "cell_type": "markdown",
   "metadata": {},
   "source": [
    "## D. Design new architecture/update existing architecture in attempt to improve the performance of the model. "
   ]
  },
  {
   "cell_type": "code",
   "execution_count": 46,
   "metadata": {},
   "outputs": [],
   "source": [
    "def opt_model():\n",
    "    model = Sequential()\n",
    "    \n",
    "    model.add(Dense(20, input_shape = (11, ), kernel_initializer='he_normal'))\n",
    "    \n",
    "    model.add(Dense(20 ,kernel_initializer='he_normal'))\n",
    "    model.add(Activation('relu'))    \n",
    "    model.add(Dense(20, kernel_initializer='he_normal'))\n",
    "    model.add(Activation('relu'))    \n",
    "    model.add(Dense(9, kernel_initializer='he_normal'))   \n",
    "    model.add(Activation('softmax'))\n",
    "\n",
    "    sgd = optimizers.Adam(lr = 0.01)\n",
    "    model.compile(optimizer = sgd, loss = 'categorical_crossentropy', metrics = ['accuracy'])\n",
    "    \n",
    "    return model"
   ]
  },
  {
   "cell_type": "code",
   "execution_count": 47,
   "metadata": {
    "scrolled": false
   },
   "outputs": [
    {
     "name": "stdout",
     "output_type": "stream",
     "text": [
      "Epoch 1/100\n",
      "8/8 [==============================] - 1s 44ms/step - loss: 1.7766 - accuracy: 0.3579 - val_loss: 1.2992 - val_accuracy: 0.3979\n",
      "Epoch 2/100\n",
      "8/8 [==============================] - 0s 7ms/step - loss: 1.3432 - accuracy: 0.4579 - val_loss: 1.1746 - val_accuracy: 0.4764\n",
      "Epoch 3/100\n",
      "8/8 [==============================] - 0s 6ms/step - loss: 1.2205 - accuracy: 0.4724 - val_loss: 1.1713 - val_accuracy: 0.4974\n",
      "Epoch 4/100\n",
      "8/8 [==============================] - 0s 8ms/step - loss: 1.1844 - accuracy: 0.5039 - val_loss: 1.1182 - val_accuracy: 0.5026\n",
      "Epoch 5/100\n",
      "8/8 [==============================] - 0s 6ms/step - loss: 1.1781 - accuracy: 0.5118 - val_loss: 1.1233 - val_accuracy: 0.4974\n",
      "Epoch 6/100\n",
      "8/8 [==============================] - 0s 7ms/step - loss: 1.1722 - accuracy: 0.5092 - val_loss: 1.1294 - val_accuracy: 0.5183\n",
      "Epoch 7/100\n",
      "8/8 [==============================] - 0s 7ms/step - loss: 1.1697 - accuracy: 0.5237 - val_loss: 1.1353 - val_accuracy: 0.4817\n",
      "Epoch 8/100\n",
      "8/8 [==============================] - 0s 8ms/step - loss: 1.1696 - accuracy: 0.5066 - val_loss: 1.1225 - val_accuracy: 0.5236\n",
      "Epoch 9/100\n",
      "8/8 [==============================] - 0s 7ms/step - loss: 1.1658 - accuracy: 0.5171 - val_loss: 1.1149 - val_accuracy: 0.5183\n",
      "Epoch 10/100\n",
      "8/8 [==============================] - 0s 7ms/step - loss: 1.1552 - accuracy: 0.5211 - val_loss: 1.1148 - val_accuracy: 0.5131\n",
      "Epoch 11/100\n",
      "8/8 [==============================] - 0s 7ms/step - loss: 1.1536 - accuracy: 0.5145 - val_loss: 1.1318 - val_accuracy: 0.5288\n",
      "Epoch 12/100\n",
      "8/8 [==============================] - 0s 8ms/step - loss: 1.1617 - accuracy: 0.4961 - val_loss: 1.1238 - val_accuracy: 0.5079\n",
      "Epoch 13/100\n",
      "8/8 [==============================] - 0s 8ms/step - loss: 1.1588 - accuracy: 0.5066 - val_loss: 1.1187 - val_accuracy: 0.5026\n",
      "Epoch 14/100\n",
      "8/8 [==============================] - 0s 7ms/step - loss: 1.1446 - accuracy: 0.5145 - val_loss: 1.1077 - val_accuracy: 0.5340\n",
      "Epoch 15/100\n",
      "8/8 [==============================] - 0s 6ms/step - loss: 1.1430 - accuracy: 0.5197 - val_loss: 1.1187 - val_accuracy: 0.5026\n",
      "Epoch 16/100\n",
      "8/8 [==============================] - 0s 7ms/step - loss: 1.1485 - accuracy: 0.5211 - val_loss: 1.1141 - val_accuracy: 0.5079\n",
      "Epoch 17/100\n",
      "8/8 [==============================] - 0s 9ms/step - loss: 1.1392 - accuracy: 0.5237 - val_loss: 1.1097 - val_accuracy: 0.5079\n",
      "Epoch 18/100\n",
      "8/8 [==============================] - 0s 8ms/step - loss: 1.1336 - accuracy: 0.5237 - val_loss: 1.1095 - val_accuracy: 0.5131\n",
      "Epoch 19/100\n",
      "8/8 [==============================] - 0s 7ms/step - loss: 1.1338 - accuracy: 0.5276 - val_loss: 1.1019 - val_accuracy: 0.5079\n",
      "Epoch 20/100\n",
      "8/8 [==============================] - 0s 8ms/step - loss: 1.1249 - accuracy: 0.5263 - val_loss: 1.1053 - val_accuracy: 0.4974\n",
      "Epoch 21/100\n",
      "8/8 [==============================] - 0s 9ms/step - loss: 1.1218 - accuracy: 0.5197 - val_loss: 1.0992 - val_accuracy: 0.5183\n",
      "Epoch 22/100\n",
      "8/8 [==============================] - 0s 7ms/step - loss: 1.1196 - accuracy: 0.5395 - val_loss: 1.0965 - val_accuracy: 0.5393\n",
      "Epoch 23/100\n",
      "8/8 [==============================] - 0s 6ms/step - loss: 1.1243 - accuracy: 0.5276 - val_loss: 1.0978 - val_accuracy: 0.5288\n",
      "Epoch 24/100\n",
      "8/8 [==============================] - 0s 9ms/step - loss: 1.1378 - accuracy: 0.5105 - val_loss: 1.0917 - val_accuracy: 0.5131\n",
      "Epoch 25/100\n",
      "8/8 [==============================] - 0s 9ms/step - loss: 1.1194 - accuracy: 0.5408 - val_loss: 1.1236 - val_accuracy: 0.5183\n",
      "Epoch 26/100\n",
      "8/8 [==============================] - 0s 12ms/step - loss: 1.1373 - accuracy: 0.5263 - val_loss: 1.0857 - val_accuracy: 0.5550\n",
      "Epoch 27/100\n",
      "8/8 [==============================] - 0s 10ms/step - loss: 1.1140 - accuracy: 0.5263 - val_loss: 1.1159 - val_accuracy: 0.5236\n",
      "Epoch 28/100\n",
      "8/8 [==============================] - 0s 12ms/step - loss: 1.1228 - accuracy: 0.5224 - val_loss: 1.0818 - val_accuracy: 0.5236\n",
      "Epoch 29/100\n",
      "8/8 [==============================] - 0s 10ms/step - loss: 1.1151 - accuracy: 0.5355 - val_loss: 1.0910 - val_accuracy: 0.5079\n",
      "Epoch 30/100\n",
      "8/8 [==============================] - 0s 10ms/step - loss: 1.1032 - accuracy: 0.5289 - val_loss: 1.0743 - val_accuracy: 0.5340\n",
      "Epoch 31/100\n",
      "8/8 [==============================] - 0s 10ms/step - loss: 1.0922 - accuracy: 0.5276 - val_loss: 1.0610 - val_accuracy: 0.5445\n",
      "Epoch 32/100\n",
      "8/8 [==============================] - 0s 10ms/step - loss: 1.0862 - accuracy: 0.5289 - val_loss: 1.0782 - val_accuracy: 0.5445\n",
      "Epoch 33/100\n",
      "8/8 [==============================] - 0s 8ms/step - loss: 1.0836 - accuracy: 0.5329 - val_loss: 1.0668 - val_accuracy: 0.5236\n",
      "Epoch 34/100\n",
      "8/8 [==============================] - 0s 9ms/step - loss: 1.0837 - accuracy: 0.5342 - val_loss: 1.0702 - val_accuracy: 0.5550\n",
      "Epoch 35/100\n",
      "8/8 [==============================] - 0s 10ms/step - loss: 1.0650 - accuracy: 0.5526 - val_loss: 1.0455 - val_accuracy: 0.5236\n",
      "Epoch 36/100\n",
      "8/8 [==============================] - 0s 9ms/step - loss: 1.0585 - accuracy: 0.5566 - val_loss: 1.0682 - val_accuracy: 0.5236\n",
      "Epoch 37/100\n",
      "8/8 [==============================] - 0s 8ms/step - loss: 1.0597 - accuracy: 0.5368 - val_loss: 1.0509 - val_accuracy: 0.5550\n",
      "Epoch 38/100\n",
      "8/8 [==============================] - 0s 9ms/step - loss: 1.0539 - accuracy: 0.5434 - val_loss: 1.1063 - val_accuracy: 0.4974\n",
      "Epoch 39/100\n",
      "8/8 [==============================] - 0s 9ms/step - loss: 1.0738 - accuracy: 0.5513 - val_loss: 1.0390 - val_accuracy: 0.5445\n",
      "Epoch 40/100\n",
      "8/8 [==============================] - 0s 8ms/step - loss: 1.0834 - accuracy: 0.5421 - val_loss: 1.0392 - val_accuracy: 0.5183\n",
      "Epoch 41/100\n",
      "8/8 [==============================] - 0s 8ms/step - loss: 1.0664 - accuracy: 0.5289 - val_loss: 1.0343 - val_accuracy: 0.5236\n",
      "Epoch 42/100\n",
      "8/8 [==============================] - 0s 7ms/step - loss: 1.0425 - accuracy: 0.5658 - val_loss: 1.0236 - val_accuracy: 0.5393\n",
      "Epoch 43/100\n",
      "8/8 [==============================] - 0s 8ms/step - loss: 1.0406 - accuracy: 0.5500 - val_loss: 1.0239 - val_accuracy: 0.5236\n",
      "Epoch 44/100\n",
      "8/8 [==============================] - 0s 11ms/step - loss: 1.0289 - accuracy: 0.5658 - val_loss: 1.0102 - val_accuracy: 0.5393\n",
      "Epoch 45/100\n",
      "8/8 [==============================] - 0s 9ms/step - loss: 1.0274 - accuracy: 0.5711 - val_loss: 1.0651 - val_accuracy: 0.5393\n",
      "Epoch 46/100\n",
      "8/8 [==============================] - 0s 11ms/step - loss: 1.0439 - accuracy: 0.5539 - val_loss: 1.0161 - val_accuracy: 0.5393\n",
      "Epoch 47/100\n",
      "8/8 [==============================] - 0s 9ms/step - loss: 1.0284 - accuracy: 0.5763 - val_loss: 1.0145 - val_accuracy: 0.5445\n",
      "Epoch 48/100\n",
      "8/8 [==============================] - 0s 8ms/step - loss: 1.0303 - accuracy: 0.5605 - val_loss: 1.0540 - val_accuracy: 0.5236\n",
      "Epoch 49/100\n",
      "8/8 [==============================] - 0s 8ms/step - loss: 1.0240 - accuracy: 0.5737 - val_loss: 1.0266 - val_accuracy: 0.5236\n",
      "Epoch 50/100\n",
      "8/8 [==============================] - 0s 10ms/step - loss: 1.0085 - accuracy: 0.5671 - val_loss: 0.9966 - val_accuracy: 0.5497\n",
      "Epoch 51/100\n",
      "8/8 [==============================] - 0s 9ms/step - loss: 1.0094 - accuracy: 0.5645 - val_loss: 1.0131 - val_accuracy: 0.5288\n",
      "Epoch 52/100\n",
      "8/8 [==============================] - 0s 9ms/step - loss: 1.0010 - accuracy: 0.5711 - val_loss: 1.0276 - val_accuracy: 0.5445\n",
      "Epoch 53/100\n",
      "8/8 [==============================] - 0s 11ms/step - loss: 0.9976 - accuracy: 0.5750 - val_loss: 0.9906 - val_accuracy: 0.5497\n",
      "Epoch 54/100\n",
      "8/8 [==============================] - 0s 9ms/step - loss: 0.9902 - accuracy: 0.5855 - val_loss: 1.0543 - val_accuracy: 0.5236\n",
      "Epoch 55/100\n",
      "8/8 [==============================] - 0s 8ms/step - loss: 1.0240 - accuracy: 0.5355 - val_loss: 1.0264 - val_accuracy: 0.5602\n",
      "Epoch 56/100\n",
      "8/8 [==============================] - 0s 9ms/step - loss: 1.0181 - accuracy: 0.5500 - val_loss: 1.0299 - val_accuracy: 0.5079\n",
      "Epoch 57/100\n",
      "8/8 [==============================] - 0s 8ms/step - loss: 0.9912 - accuracy: 0.5789 - val_loss: 1.0035 - val_accuracy: 0.5236\n",
      "Epoch 58/100\n",
      "8/8 [==============================] - 0s 9ms/step - loss: 0.9950 - accuracy: 0.5697 - val_loss: 1.0076 - val_accuracy: 0.5393\n",
      "Epoch 59/100\n",
      "8/8 [==============================] - 0s 8ms/step - loss: 0.9840 - accuracy: 0.5829 - val_loss: 1.0307 - val_accuracy: 0.5550\n",
      "Epoch 60/100\n",
      "8/8 [==============================] - 0s 8ms/step - loss: 0.9959 - accuracy: 0.5763 - val_loss: 0.9958 - val_accuracy: 0.5288\n",
      "Epoch 61/100\n",
      "8/8 [==============================] - 0s 8ms/step - loss: 0.9972 - accuracy: 0.5789 - val_loss: 0.9895 - val_accuracy: 0.5602\n",
      "Epoch 62/100\n",
      "8/8 [==============================] - 0s 8ms/step - loss: 0.9748 - accuracy: 0.5882 - val_loss: 1.0049 - val_accuracy: 0.5288\n",
      "Epoch 63/100\n",
      "8/8 [==============================] - 0s 8ms/step - loss: 0.9810 - accuracy: 0.5855 - val_loss: 1.0162 - val_accuracy: 0.5497\n",
      "Epoch 64/100\n",
      "8/8 [==============================] - 0s 6ms/step - loss: 1.0036 - accuracy: 0.5711 - val_loss: 1.0265 - val_accuracy: 0.5183\n",
      "Epoch 65/100\n",
      "8/8 [==============================] - 0s 7ms/step - loss: 0.9960 - accuracy: 0.5539 - val_loss: 1.0505 - val_accuracy: 0.5393\n",
      "Epoch 66/100\n",
      "8/8 [==============================] - 0s 7ms/step - loss: 0.9883 - accuracy: 0.5868 - val_loss: 0.9873 - val_accuracy: 0.5707\n",
      "Epoch 67/100\n",
      "8/8 [==============================] - 0s 6ms/step - loss: 0.9915 - accuracy: 0.5566 - val_loss: 0.9896 - val_accuracy: 0.5654\n",
      "Epoch 68/100\n",
      "8/8 [==============================] - 0s 6ms/step - loss: 0.9978 - accuracy: 0.5763 - val_loss: 1.0548 - val_accuracy: 0.5340\n",
      "Epoch 69/100\n",
      "8/8 [==============================] - 0s 7ms/step - loss: 1.0011 - accuracy: 0.5645 - val_loss: 1.0163 - val_accuracy: 0.5236\n",
      "Epoch 70/100\n",
      "8/8 [==============================] - 0s 7ms/step - loss: 0.9721 - accuracy: 0.5750 - val_loss: 1.0031 - val_accuracy: 0.5550\n",
      "Epoch 71/100\n",
      "8/8 [==============================] - 0s 7ms/step - loss: 0.9773 - accuracy: 0.5776 - val_loss: 1.0017 - val_accuracy: 0.5602\n",
      "Epoch 72/100\n",
      "8/8 [==============================] - 0s 6ms/step - loss: 0.9837 - accuracy: 0.5724 - val_loss: 1.0097 - val_accuracy: 0.5497\n",
      "Epoch 73/100\n",
      "8/8 [==============================] - 0s 8ms/step - loss: 0.9723 - accuracy: 0.5895 - val_loss: 1.0009 - val_accuracy: 0.5445\n",
      "Epoch 74/100\n",
      "8/8 [==============================] - 0s 8ms/step - loss: 0.9698 - accuracy: 0.5842 - val_loss: 1.0010 - val_accuracy: 0.5602\n",
      "Epoch 75/100\n",
      "8/8 [==============================] - 0s 6ms/step - loss: 0.9726 - accuracy: 0.5842 - val_loss: 1.0097 - val_accuracy: 0.5340\n",
      "Epoch 76/100\n",
      "8/8 [==============================] - 0s 7ms/step - loss: 0.9725 - accuracy: 0.5921 - val_loss: 1.0023 - val_accuracy: 0.5812\n",
      "Epoch 77/100\n",
      "8/8 [==============================] - 0s 11ms/step - loss: 0.9751 - accuracy: 0.6026 - val_loss: 0.9853 - val_accuracy: 0.5602\n",
      "Epoch 78/100\n",
      "8/8 [==============================] - 0s 8ms/step - loss: 0.9549 - accuracy: 0.5961 - val_loss: 0.9962 - val_accuracy: 0.5497\n",
      "Epoch 79/100\n",
      "8/8 [==============================] - 0s 12ms/step - loss: 0.9751 - accuracy: 0.5882 - val_loss: 0.9801 - val_accuracy: 0.5654\n",
      "Epoch 80/100\n",
      "8/8 [==============================] - 0s 10ms/step - loss: 1.0481 - accuracy: 0.5645 - val_loss: 1.0779 - val_accuracy: 0.5550\n",
      "Epoch 81/100\n",
      "8/8 [==============================] - 0s 9ms/step - loss: 1.0546 - accuracy: 0.5592 - val_loss: 1.1314 - val_accuracy: 0.5445\n",
      "Epoch 82/100\n",
      "8/8 [==============================] - 0s 9ms/step - loss: 1.0141 - accuracy: 0.5658 - val_loss: 0.9937 - val_accuracy: 0.5393\n",
      "Epoch 83/100\n",
      "8/8 [==============================] - 0s 6ms/step - loss: 0.9637 - accuracy: 0.5974 - val_loss: 1.0115 - val_accuracy: 0.5393\n",
      "Epoch 84/100\n",
      "8/8 [==============================] - 0s 7ms/step - loss: 0.9640 - accuracy: 0.6039 - val_loss: 1.0227 - val_accuracy: 0.5288\n",
      "Epoch 85/100\n",
      "8/8 [==============================] - 0s 8ms/step - loss: 0.9686 - accuracy: 0.5842 - val_loss: 1.1008 - val_accuracy: 0.5079\n",
      "Epoch 86/100\n",
      "8/8 [==============================] - 0s 7ms/step - loss: 0.9911 - accuracy: 0.5842 - val_loss: 1.0010 - val_accuracy: 0.5550\n",
      "Epoch 87/100\n",
      "8/8 [==============================] - 0s 6ms/step - loss: 0.9664 - accuracy: 0.5776 - val_loss: 1.0058 - val_accuracy: 0.5445\n",
      "Epoch 88/100\n",
      "8/8 [==============================] - 0s 8ms/step - loss: 0.9420 - accuracy: 0.6066 - val_loss: 1.0428 - val_accuracy: 0.5393\n",
      "Epoch 89/100\n",
      "8/8 [==============================] - 0s 8ms/step - loss: 0.9917 - accuracy: 0.5461 - val_loss: 0.9913 - val_accuracy: 0.5707\n",
      "Epoch 90/100\n",
      "8/8 [==============================] - 0s 5ms/step - loss: 0.9429 - accuracy: 0.5961 - val_loss: 0.9910 - val_accuracy: 0.5340\n",
      "Epoch 91/100\n",
      "8/8 [==============================] - 0s 8ms/step - loss: 0.9543 - accuracy: 0.5882 - val_loss: 0.9954 - val_accuracy: 0.5602\n",
      "Epoch 92/100\n",
      "8/8 [==============================] - 0s 7ms/step - loss: 0.9435 - accuracy: 0.6026 - val_loss: 0.9929 - val_accuracy: 0.5497\n",
      "Epoch 93/100\n",
      "8/8 [==============================] - 0s 7ms/step - loss: 0.9425 - accuracy: 0.6013 - val_loss: 0.9935 - val_accuracy: 0.5497\n",
      "Epoch 94/100\n",
      "8/8 [==============================] - 0s 7ms/step - loss: 0.9407 - accuracy: 0.6079 - val_loss: 0.9900 - val_accuracy: 0.5340\n",
      "Epoch 95/100\n",
      "8/8 [==============================] - 0s 7ms/step - loss: 0.9401 - accuracy: 0.6039 - val_loss: 0.9991 - val_accuracy: 0.5602\n",
      "Epoch 96/100\n",
      "8/8 [==============================] - 0s 8ms/step - loss: 0.9403 - accuracy: 0.5934 - val_loss: 1.0212 - val_accuracy: 0.5707\n",
      "Epoch 97/100\n",
      "8/8 [==============================] - 0s 9ms/step - loss: 0.9431 - accuracy: 0.6026 - val_loss: 1.0065 - val_accuracy: 0.5759\n",
      "Epoch 98/100\n",
      "8/8 [==============================] - 0s 10ms/step - loss: 0.9376 - accuracy: 0.5921 - val_loss: 1.0014 - val_accuracy: 0.5550\n",
      "Epoch 99/100\n",
      "8/8 [==============================] - 0s 9ms/step - loss: 0.9434 - accuracy: 0.5947 - val_loss: 0.9977 - val_accuracy: 0.5497\n",
      "Epoch 100/100\n",
      "8/8 [==============================] - 0s 8ms/step - loss: 0.9364 - accuracy: 0.5947 - val_loss: 0.9981 - val_accuracy: 0.5602\n"
     ]
    }
   ],
   "source": [
    "model = opt_model()\n",
    "history = model.fit(X_train, y_train_cat, batch_size=100, epochs = 100, validation_split =0.2,verbose = 1)"
   ]
  },
  {
   "cell_type": "code",
   "execution_count": 48,
   "metadata": {},
   "outputs": [
    {
     "name": "stdout",
     "output_type": "stream",
     "text": [
      "13/13 [==============================] - 0s 2ms/step - loss: 0.9992 - accuracy: 0.6005\n"
     ]
    }
   ],
   "source": [
    "results_1 = model.evaluate(X_test, y_test_cat)"
   ]
  },
  {
   "cell_type": "markdown",
   "metadata": {},
   "source": [
    "E. Plot visuals as in Q3.C and share insights about difference observed in both the models. "
   ]
  },
  {
   "cell_type": "code",
   "execution_count": 49,
   "metadata": {},
   "outputs": [
    {
     "data": {
      "image/png": "[encoded data removed]",
      "text/plain": [
       "<Figure size 432x288 with 1 Axes>"
      ]
     },
     "metadata": {
      "needs_background": "light"
     },
     "output_type": "display_data"
    }
   ],
   "source": [
    "import matplotlib.pyplot as plt\n",
    "loss_train = history.history['loss']\n",
    "loss_val = history.history['val_loss']\n",
    "epochs =range(1,101)\n",
    "plt.plot(epochs,loss_train, 'g', label = 'Training loss')\n",
    "plt.plot(epochs,loss_val, 'b', label = 'Validation loss')\n",
    "plt.title('Training and Validation loss')\n",
    "plt.xlabel('Epochs')\n",
    "plt.ylabel('Loss')\n",
    "plt.legend()\n",
    "plt.show()\n"
   ]
  },
  {
   "cell_type": "code",
   "execution_count": 50,
   "metadata": {},
   "outputs": [
    {
     "data": {
      "image/png": "[encoded data removed]",
      "text/plain": [
       "<Figure size 432x288 with 1 Axes>"
      ]
     },
     "metadata": {
      "needs_background": "light"
     },
     "output_type": "display_data"
    }
   ],
   "source": [
    "loss_train = history.history['accuracy']\n",
    "loss_val = history.history['val_accuracy']\n",
    "epochs = range(1,101)\n",
    "plt.plot(epochs,loss_train, 'g', label = 'Training accuracy')\n",
    "plt.plot(epochs,loss_val, 'b', label = 'Validation accuracy')\n",
    "plt.title('Training and Validation accuracy')\n",
    "plt.xlabel('Epochs')\n",
    "plt.ylabel('Accuracy')\n",
    "plt.legend()\n",
    "plt.show()"
   ]
  },
  {
   "cell_type": "code",
   "execution_count": 51,
   "metadata": {},
   "outputs": [],
   "source": [
    "#with the addition of kernel initializer the learning rate decreases gradually as seen from the loss curve the steepness is decreased. \n",
    "#with the batchnormalisation and dropout we coud not increase the accuracy better. \n",
    "# a slight increase of 1 % accuracy could be achieved with the he normal initialiser.\n",
    "#bumpy curves are attained"
   ]
  },
  {
   "cell_type": "code",
   "execution_count": null,
   "metadata": {},
   "outputs": [],
   "source": []
  },
  {
   "cell_type": "code",
   "execution_count": null,
   "metadata": {},
   "outputs": [],
   "source": []
  },
  {
   "cell_type": "code",
   "execution_count": null,
   "metadata": {},
   "outputs": [],
   "source": []
  }
 ],
 "metadata": {
  "colab": {
   "collapsed_sections": [],
   "provenance": []
  },
  "kernelspec": {
   "display_name": "Python 3 (ipykernel)",
   "language": "python",
   "name": "python3"
  },
  "language_info": {
   "codemirror_mode": {
    "name": "ipython",
    "version": 3
   },
   "file_extension": ".py",
   "mimetype": "text/x-python",
   "name": "python",
   "nbconvert_exporter": "python",
   "pygments_lexer": "ipython3",
   "version": "3.9.7"
  }
 },
 "nbformat": 4,
 "nbformat_minor": 1
}
